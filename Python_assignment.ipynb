{
  "cells": [
    {
      "cell_type": "markdown",
      "metadata": {
        "id": "view-in-github",
        "colab_type": "text"
      },
      "source": [
        "<a href=\"https://colab.research.google.com/github/avlntav/projects/blob/main/Python_assignment.ipynb\" target=\"_parent\"><img src=\"https://colab.research.google.com/assets/colab-badge.svg\" alt=\"Open In Colab\"/></a>"
      ]
    },
    {
      "cell_type": "markdown",
      "source": [
        "**Module 1 Python**\n",
        "\n"
      ],
      "metadata": {
        "id": "b_Kq_fnue0Jk"
      }
    },
    {
      "cell_type": "markdown",
      "source": [
        "The below code and logic solves all the questions asked in Module 1"
      ],
      "metadata": {
        "id": "lTdGcAdsfG1P"
      }
    },
    {
      "cell_type": "code",
      "execution_count": null,
      "metadata": {
        "colab": {
          "base_uri": "https://localhost:8080/"
        },
        "id": "ZDF2kuM69NPF",
        "outputId": "a2595a41-efad-4aa1-9d71-e276ad32839b"
      },
      "outputs": [
        {
          "name": "stdout",
          "output_type": "stream",
          "text": [
            "Moved 'Areas_in_blore.xlsx' to bad folder.\n",
            "Moved 'data_file_20210527182730.csv' to destination folder.\n",
            "Moved 'data_file_20210528182554.csv' to destination folder.\n",
            "Moved 'data_file_20210528182844.csv' to destination folder.\n"
          ]
        }
      ],
      "source": [
        "##Module 1\n",
        "import os\n",
        "import shutil\n",
        "\n",
        "def move_files(source_folder, destination_folder, bad_folder):\n",
        "    for filename in os.listdir(source_folder):\n",
        "        source_path = os.path.join(source_folder, filename)\n",
        "        destination_path = os.path.join(destination_folder, filename)\n",
        "        bad_path = os.path.join(bad_folder, filename)\n",
        "\n",
        "        # Check if file already exists in destination folder\n",
        "        if os.path.isfile(destination_path):\n",
        "            print(f\"File '{filename}' already exists in destination folder.\")\n",
        "        else:\n",
        "            # Check if file is a CSV and not empty\n",
        "            if filename.lower().endswith('.csv') and os.path.getsize(source_path) > 0:\n",
        "                shutil.move(source_path, destination_path)\n",
        "                print(f\"Moved '{filename}' to destination folder.\")\n",
        "            else:\n",
        "                shutil.move(source_path, bad_path)\n",
        "                print(f\"Moved '{filename}' to bad folder.\")\n",
        "\n",
        "# Example usage:\n",
        "source_folder = '/content/source'\n",
        "destination_folder = '/content/destination'\n",
        "bad_folder = '/content/Bad_files'\n",
        "\n",
        "move_files(source_folder, destination_folder, bad_folder)\n",
        "\n",
        "\n"
      ]
    },
    {
      "cell_type": "markdown",
      "source": [
        "**Module 2**"
      ],
      "metadata": {
        "id": "gcyRmYYqfPX6"
      }
    },
    {
      "cell_type": "markdown",
      "source": [
        "The below code converts multiple mobile numbers in Phone colume to separate columns \"Contact1\" and \"Contact2\". Any null records that do not have a primary mobile number, or having null values in primary fields are considered as bad records. all the bad records are pushed to another Pipe separated file"
      ],
      "metadata": {
        "id": "r5MP5A8rfTpb"
      }
    },
    {
      "cell_type": "markdown",
      "source": [
        "**NOTE:** The files are saved in Tab delimiter because excel is parsing csv format in a bad way, so for better visualization of the data in excel file Pipe separator is used.\n"
      ],
      "metadata": {
        "id": "pJNKGatMgB85"
      }
    },
    {
      "cell_type": "code",
      "source": [
        "import os\n",
        "import pandas as pd\n",
        "import re\n",
        "\n",
        "# Function to clean phone numbers\n",
        "def clean_phone(phone):\n",
        "    phone = str(phone).replace('+', '').strip()\n",
        "    phone = str(phone).replace(' ', '').strip()\n",
        "    if 10 <= len(phone) < 14:\n",
        "        return phone\n",
        "    else:\n",
        "        return None  # Return None for bad records\n",
        "\n",
        "# Function to check if the value is valid for online_order column\n",
        "def is_valid_online_order(value):\n",
        "    return value.lower() in ['yes', 'no']\n",
        "\n",
        "# Function to check if the value is valid for book_table column\n",
        "def is_valid_book_table(value):\n",
        "    return value.lower() in ['yes', 'no']\n",
        "\n",
        "# Function to remove special characters from a string\n",
        "def remove_special_chars(text):\n",
        "    return re.sub(r'[^\\w\\s]', '', text)\n",
        "\n",
        "# Folder containing Excel files\n",
        "folder_path = '/content/destination'\n",
        "dest_path = '/content/source'\n",
        "\n",
        "# List to store bad records\n",
        "bad_records = []\n",
        "\n",
        "# Iterate through each Excel file in the folder\n",
        "for file_name in os.listdir(folder_path):\n",
        "    if file_name.endswith('.csv'):  # Assuming Excel files have .csv extension\n",
        "        file_path = os.path.join(folder_path, file_name)\n",
        "        # Read Excel file into a DataFrame\n",
        "        df = pd.read_csv(file_path)\n",
        "\n",
        "        # Remove special characters from address and reviews_list columns\n",
        "        df['address'] = df['address'].apply(remove_special_chars)\n",
        "        df['reviews_list'] = df['reviews_list'].apply(remove_special_chars)\n",
        "\n",
        "        df['phone'] = df['phone'].str.replace( '\\r\\n', '\\n')\n",
        "\n",
        "\n",
        "        split_phones = df['phone'].str.split(r'\\n', expand=True)\n",
        "\n",
        "        # Assign the first two columns to 'contact1' and 'contact2'\n",
        "        df['contact1'] = split_phones[0]\n",
        "        df['contact2'] = split_phones[1]\n",
        "\n",
        "        # Clean phone numbers\n",
        "        df['contact1'] = df['contact1'].apply(clean_phone)\n",
        "        df['contact2'] = df['contact2'].apply(clean_phone)\n",
        "\n",
        "        # Convert contact1 and contact2 columns to object/string type\n",
        "        df['contact1'] = df['contact1'].fillna(' ').astype(str)\n",
        "        df['contact2'] = df['contact2'].fillna(' ').astype(str)\n",
        "\n",
        "        # Separate bad records for phone numbers\n",
        "        bad_records.extend(df[df['contact1'].isnull()].to_dict('records'))\n",
        "\n",
        "        # Check for bad records in online_order column\n",
        "        bad_records.extend(df[~df['online_order'].apply(is_valid_online_order)].to_dict('records'))\n",
        "\n",
        "        # Check for bad records in book_table column\n",
        "        bad_records.extend(df[~df['book_table'].apply(is_valid_book_table)].to_dict('records'))\n",
        "\n",
        "        # Check for null values in rate column\n",
        "        bad_records.extend(df[df['rate'].isnull()].to_dict('records'))\n",
        "\n",
        "        # Check for null values in location column\n",
        "        bad_records.extend(df[df['location'].isnull()].to_dict('records'))\n",
        "\n",
        "        # Remove bad records from DataFrame\n",
        "        df = df.dropna(subset=['contact1', 'rate', 'location'])\n",
        "        df = df[df['online_order'].apply(is_valid_online_order)]\n",
        "        df = df[df['book_table'].apply(is_valid_book_table)]\n",
        "\n",
        "        # Save cleaned records to a new csv file with pipe delimiter\n",
        "        cleaned_file_name = file_name.replace('.csv', '_cleaned.csv')\n",
        "        cleaned_file_path = os.path.join(dest_path, cleaned_file_name)\n",
        "\n",
        "        # Converting the Contact information into String type\n",
        "\n",
        "\n",
        "        df.to_csv(cleaned_file_path, sep='|', index=False)\n",
        "\n",
        "# Create DataFrame for bad records\n",
        "bad_records_df = pd.DataFrame(bad_records)\n",
        "\n",
        "# Convert contact1 and contact2 columns to object/string type in bad records DataFrame\n",
        "bad_records_df['contact1'] = bad_records_df['contact1'].fillna(' ').astype('str')\n",
        "bad_records_df['contact2'] = bad_records_df['contact2'].fillna(' ').astype('str')\n",
        "\n",
        "# Save bad records to CSV file with pipe delimiter\n",
        "bad_records_csv = os.path.join(dest_path, 'bad_records.csv')\n",
        "bad_records_df.to_csv(bad_records_csv, sep='|', index=False)\n",
        "\n",
        "print(\"Cleaning complete!\")\n"
      ],
      "metadata": {
        "colab": {
          "base_uri": "https://localhost:8080/"
        },
        "id": "wyUJgPj5ZBXV",
        "outputId": "9939de18-be37-4e1e-b88d-6f0033704953"
      },
      "execution_count": 123,
      "outputs": [
        {
          "output_type": "stream",
          "name": "stdout",
          "text": [
            "Cleaning complete!\n"
          ]
        }
      ]
    },
    {
      "cell_type": "code",
      "source": [
        "pd.set_option('display.max_rows', None)\n",
        "pd.set_option('display.max_columns', 50)"
      ],
      "metadata": {
        "id": "whKCJB2IhpeB"
      },
      "execution_count": 124,
      "outputs": []
    },
    {
      "cell_type": "code",
      "source": [
        "processed_file_example = pd.read_csv(\"/content/source/data_file_20210527182730_cleaned.csv\", sep = \"|\")\n"
      ],
      "metadata": {
        "id": "Ley5XOBzZBUK"
      },
      "execution_count": 129,
      "outputs": []
    },
    {
      "cell_type": "code",
      "source": [
        "#Displaying sample data (50 records) from the cleaned data file\n",
        "Bad_file = pd.read_csv(\"/content/source/bad_records.csv\", sep = \"|\")\n"
      ],
      "metadata": {
        "id": "y09HTCw5ZBJ1"
      },
      "execution_count": 130,
      "outputs": []
    },
    {
      "cell_type": "code",
      "source": [],
      "metadata": {
        "id": "RL4_Enu8jIRK"
      },
      "execution_count": 128,
      "outputs": []
    }
  ],
  "metadata": {
    "colab": {
      "provenance": [],
      "toc_visible": true,
      "authorship_tag": "ABX9TyPTIYCr3EAxNgECt3Qozl9w",
      "include_colab_link": true
    },
    "kernelspec": {
      "display_name": "Python 3",
      "name": "python3"
    },
    "language_info": {
      "name": "python"
    }
  },
  "nbformat": 4,
  "nbformat_minor": 0
}